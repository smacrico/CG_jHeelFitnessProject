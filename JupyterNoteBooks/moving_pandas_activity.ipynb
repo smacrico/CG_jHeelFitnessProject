{
 "cells": [
  {
   "cell_type": "code",
   "execution_count": 1,
   "id": "b1375711",
   "metadata": {},
   "outputs": [],
   "source": [
    "import sqlite3\n",
    "import pandas as pd\n",
    "import movingpandas as mpd\n",
    "from datetime import timedelta\n",
    "import numpy as np"
   ]
  },
  {
   "cell_type": "code",
   "execution_count": 2,
   "id": "ba74a78f",
   "metadata": {},
   "outputs": [
    {
     "ename": "OperationalError",
     "evalue": "unable to open database file",
     "output_type": "error",
     "traceback": [
      "\u001b[1;31m---------------------------------------------------------------------------\u001b[0m",
      "\u001b[1;31mOperationalError\u001b[0m                          Traceback (most recent call last)",
      "Cell \u001b[1;32mIn[2], line 1\u001b[0m\n\u001b[1;32m----> 1\u001b[0m activity_records_connection \u001b[38;5;241m=\u001b[39m \u001b[43msqlite3\u001b[49m\u001b[38;5;241;43m.\u001b[39;49m\u001b[43mconnect\u001b[49m\u001b[43m(\u001b[49m\u001b[38;5;124;43m'\u001b[39;49m\u001b[38;5;124;43m/Users/dominicdowding/HealthData/DBs/garmin_activities.db\u001b[39;49m\u001b[38;5;124;43m'\u001b[39;49m\u001b[43m)\u001b[49m\n\u001b[0;32m      2\u001b[0m activity_records_df \u001b[38;5;241m=\u001b[39m pd\u001b[38;5;241m.\u001b[39mread_sql_query(\u001b[38;5;124m\"\u001b[39m\u001b[38;5;124mSELECT a.activity_id, a.start_lat, a.start_long, a.stop_lat, a.stop_long, a.name, a.type, a.start_time, a.stop_time, a.moving_time, a.sport, a.distance, a.cycles, a.laps, a.avg_hr, a.max_hr, a.calories, a.avg_cadence, a.max_cadence, a.avg_speed, a.max_speed, a.ascent, a.max_temperature, a.min_temperature, ar.record, ar.timestamp, ar.position_lat, ar.position_long, ar.distance as activity_distance, ar.cadence, ar.hr, ar.altitude, ar.speed, ar.temperature FROM  activities a JOIN activity_records ar on a.activity_id = ar.activity_id\u001b[39m\u001b[38;5;124m\"\u001b[39m, activity_records_connection)\n\u001b[0;32m      3\u001b[0m activity_records_df[\u001b[38;5;124m'\u001b[39m\u001b[38;5;124mday\u001b[39m\u001b[38;5;124m'\u001b[39m] \u001b[38;5;241m=\u001b[39m activity_records_df[\u001b[38;5;124m'\u001b[39m\u001b[38;5;124mtimestamp\u001b[39m\u001b[38;5;124m'\u001b[39m]\u001b[38;5;241m.\u001b[39mstr[:\u001b[38;5;241m10\u001b[39m]\n",
      "\u001b[1;31mOperationalError\u001b[0m: unable to open database file"
     ]
    }
   ],
   "source": [
    "activity_records_connection = sqlite3.connect('/Users/dominicdowding/HealthData/DBs/garmin_activities.db')\n",
    "activity_records_df = pd.read_sql_query(\"SELECT a.activity_id, a.start_lat, a.start_long, a.stop_lat, a.stop_long, a.name, a.type, a.start_time, a.stop_time, a.moving_time, a.sport, a.distance, a.cycles, a.laps, a.avg_hr, a.max_hr, a.calories, a.avg_cadence, a.max_cadence, a.avg_speed, a.max_speed, a.ascent, a.max_temperature, a.min_temperature, ar.record, ar.timestamp, ar.position_lat, ar.position_long, ar.distance as activity_distance, ar.cadence, ar.hr, ar.altitude, ar.speed, ar.temperature FROM  activities a JOIN activity_records ar on a.activity_id = ar.activity_id\", activity_records_connection)\n",
    "activity_records_df['day'] = activity_records_df['timestamp'].str[:10]"
   ]
  },
  {
   "cell_type": "code",
   "execution_count": null,
   "id": "c682f6b7",
   "metadata": {},
   "outputs": [],
   "source": [
    "# Metrics to find\n",
    "# Pace e.g distance covered per minute e.g 7 minute mile pace\n",
    "# Heart rate zone e.g 60-70% of max heart rate zone\n",
    "\n",
    "summary_records_connection = sqlite3.connect('/Users/dominicdowding/HealthData/DBs/summary.db')\n",
    "summary_records_df = pd.read_sql_query(\"SELECT * FROM days_summary\", summary_records_connection)\n",
    "summary_records_df = summary_records_df.replace(to_replace='None', value=np.nan)"
   ]
  },
  {
   "cell_type": "code",
   "execution_count": null,
   "id": "e4dffa8b",
   "metadata": {},
   "outputs": [],
   "source": [
    "merged_df = pd.merge(left = summary_records_df, right = activity_records_df, how = 'inner', on = 'day')\n",
    "merged_df"
   ]
  },
  {
   "cell_type": "code",
   "execution_count": null,
   "id": "abcb9a2e",
   "metadata": {},
   "outputs": [],
   "source": [
    "merged_df.keys()"
   ]
  },
  {
   "cell_type": "code",
   "execution_count": null,
   "id": "fa769fd3",
   "metadata": {},
   "outputs": [],
   "source": [
    "merged_df"
   ]
  },
  {
   "cell_type": "code",
   "execution_count": null,
   "id": "bef942f3",
   "metadata": {},
   "outputs": [],
   "source": [
    "%%time\n",
    "merged_df['t'] = pd.to_datetime(activity_records_df['timestamp'], format='%Y-%m-%d %H:%M:%S')\n",
    "traj_collection = mpd.TrajectoryCollection(merged_df,\n",
    "                                           'activity_id',\n",
    "                                           x='position_long',\n",
    "                                           y='position_lat' ,\n",
    "                                           t='t',\n",
    "                                           min_length=100)"
   ]
  },
  {
   "cell_type": "code",
   "execution_count": null,
   "id": "c6cb1ccc",
   "metadata": {},
   "outputs": [],
   "source": [
    "latest_day = merged_df.loc[merged_df['day'] == merged_df['day'].max()]"
   ]
  },
  {
   "cell_type": "code",
   "execution_count": null,
   "id": "39cb3a72",
   "metadata": {},
   "outputs": [],
   "source": [
    "heart_rate = latest_day[['hr_avg', 'hr_min', 'hr_max', 'hr']]\n",
    "heart_rate.plot.box()"
   ]
  },
  {
   "cell_type": "code",
   "execution_count": null,
   "id": "d5ea11da",
   "metadata": {},
   "outputs": [],
   "source": [
    "latest_day_traj_collection = mpd.TrajectoryCollection(latest_day,\n",
    "                                           'activity_id',\n",
    "                                           x='position_long',\n",
    "                                           y='position_lat' ,\n",
    "                                           t='t',\n",
    "                                           min_length=100)"
   ]
  },
  {
   "cell_type": "code",
   "execution_count": null,
   "id": "342e3442",
   "metadata": {},
   "outputs": [],
   "source": [
    "latest_day_traj_collection.hvplot(title='Latest Activity', geo=True, tiles='OSM', line_width=5, c='speed', colorbar=True)"
   ]
  },
  {
   "cell_type": "code",
   "execution_count": null,
   "id": "dd6fcadf",
   "metadata": {},
   "outputs": [],
   "source": [
    "latest_day_traj_collection.hvplot(title='HR', geo=True, tiles='OSM', line_width=5, c='hr', colorbar=True)"
   ]
  },
  {
   "cell_type": "code",
   "execution_count": null,
   "id": "2853ed89",
   "metadata": {},
   "outputs": [],
   "source": [
    "latest_day_traj_collection.hvplot(title='cadence', geo=True, tiles='OSM', line_width=5, c='hr', colorbar=True)"
   ]
  },
  {
   "cell_type": "code",
   "execution_count": null,
   "id": "9a088a7a",
   "metadata": {},
   "outputs": [],
   "source": [
    "latest_day_chart = latest_day[['temperature','speed','hr','cadence', 'activity_distance', 'altitude','activity_distance', 'timestamp']]\n",
    "latest_day_chart.set_index('timestamp')\n",
    "latest_day_chart"
   ]
  },
  {
   "cell_type": "code",
   "execution_count": null,
   "id": "fe2b8a54",
   "metadata": {},
   "outputs": [],
   "source": [
    "latest_day_chart.plot()"
   ]
  },
  {
   "cell_type": "code",
   "execution_count": null,
   "id": "09a59058",
   "metadata": {},
   "outputs": [],
   "source": [
    "traj_collection.hvplot(title='Garmin Activities', geo=True, tiles='OSM', line_width=5, c='speed', colorbar=True)"
   ]
  },
  {
   "cell_type": "code",
   "execution_count": null,
   "id": "80323e2f",
   "metadata": {},
   "outputs": [],
   "source": [
    "activity_records_df['speed'].plot.hist()"
   ]
  },
  {
   "cell_type": "code",
   "execution_count": null,
   "id": "1a5f0d55",
   "metadata": {},
   "outputs": [],
   "source": [
    "stop_pts = mpd.TrajectoryStopDetector(traj_collection)\\\n",
    "   .get_stop_points(min_duration=timedelta(seconds=200), max_diameter=100)"
   ]
  },
  {
   "cell_type": "code",
   "execution_count": null,
   "id": "45507508",
   "metadata": {},
   "outputs": [],
   "source": [
    "stop_pts"
   ]
  },
  {
   "cell_type": "code",
   "execution_count": null,
   "id": "e0142505",
   "metadata": {},
   "outputs": [],
   "source": [
    "# stop_pts.hvplot(title='Garmin Stop detections', geo=True, tiles='OSM', line_width=5, c='speed', colorbar=True)\n",
    "stop_pts.hvplot( color='red', markersize=100, geo=True, tiles='OSM')"
   ]
  },
  {
   "cell_type": "code",
   "execution_count": null,
   "id": "9a86a9a3",
   "metadata": {},
   "outputs": [],
   "source": []
  }
 ],
 "metadata": {
  "kernelspec": {
   "display_name": "Python 3 (ipykernel)",
   "language": "python",
   "name": "python3"
  },
  "language_info": {
   "codemirror_mode": {
    "name": "ipython",
    "version": 3
   },
   "file_extension": ".py",
   "mimetype": "text/x-python",
   "name": "python",
   "nbconvert_exporter": "python",
   "pygments_lexer": "ipython3",
   "version": "3.12.2"
  }
 },
 "nbformat": 4,
 "nbformat_minor": 5
}
